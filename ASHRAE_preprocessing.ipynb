{
 "cells": [
  {
   "cell_type": "code",
   "execution_count": 4,
   "metadata": {},
   "outputs": [],
   "source": [
    "import pandas as pd\n",
    "import numpy as np\n",
    "import matplotlib.pyplot as plt\n",
    "%matplotlib inline\n",
    "import seaborn as sn\n",
    "\n",
    "\n",
    "import sklearn\n",
    "from sklearn import preprocessing\n",
    "from datetime import datetime\n",
    "import random\n",
    "import math\n",
    "import holidays\n",
    "us_holidays = holidays.UnitedStates()"
   ]
  },
  {
   "cell_type": "markdown",
   "metadata": {},
   "source": [
    "## Config"
   ]
  },
  {
   "cell_type": "code",
   "execution_count": 5,
   "metadata": {},
   "outputs": [],
   "source": [
    "## change the data_path to where you store data\n",
    "data_path = 'Data'"
   ]
  },
  {
   "attachments": {},
   "cell_type": "markdown",
   "metadata": {},
   "source": [
    "## Preprocess Weather Data (Handle missing values)"
   ]
  },
  {
   "cell_type": "code",
   "execution_count": 6,
   "metadata": {},
   "outputs": [],
   "source": [
    "df_w = pd.read_csv( data_path + '/weather_train.csv')\n",
    "\n",
    "df_w2 = df_w.copy(deep=True)\n",
    "\n",
    "df_w2['air_temperature'] = df_w2['air_temperature'].interpolate(method='quadratic', limit_direction='both')\n",
    "df_w2['air_temperature'] = df_w2['air_temperature'].interpolate(method='nearest', limit_direction='both')\n",
    "\n",
    "df_w2['dew_temperature'] = df_w2['dew_temperature'].interpolate(method='linear', limit_direction='both')\n",
    "df_w2['dew_temperature'] = df_w2['dew_temperature'].interpolate(method='nearest', limit_direction='both')\n",
    "\n",
    "df_w2['sea_level_pressure'] = df_w2['sea_level_pressure'].interpolate(method='quadratic', limit_direction='both')\n",
    "df_w2['sea_level_pressure'] = df_w2['sea_level_pressure'].interpolate(method='nearest', limit_direction='both')\n",
    "df_w2['sea_level_pressure'] = np.where((df_w2['site_id']==5), np.nan, df_w2['sea_level_pressure'])\n",
    "\n",
    "df_w2['wind_speed'] = df_w2['wind_speed'].interpolate(method='linear', limit_direction='both')\n",
    "df_w2['wind_speed'] = df_w2['wind_speed'].interpolate(method='nearest', limit_direction='both')\n",
    "\n",
    "\n",
    "df_w2['wind_direction cat'] = np.where(df_w2['wind_direction'].isna(), 'Unknown',\n",
    "                                  np.where(df_w2['wind_speed']==0, 'No Wind',\n",
    "                                  np.where((df_w2['wind_direction']<22.5)  | (df_w2['wind_direction']>=337.5), 'East',\n",
    "                                  np.where((df_w2['wind_direction']<67.5)  & (df_w2['wind_direction']>=22.5), 'Northeast',\n",
    "                                  np.where((df_w2['wind_direction']<112.5) & (df_w2['wind_direction']>=67.5), 'North',\n",
    "                                  np.where((df_w2['wind_direction']<157.5) & (df_w2['wind_direction']>=112.5), 'Northwest',\n",
    "                                  np.where((df_w2['wind_direction']<202.5) & (df_w2['wind_direction']>=157.5), 'West',\n",
    "                                  np.where((df_w2['wind_direction']<247.5) & (df_w2['wind_direction']>=202.5), 'Southwest',\n",
    "                                  np.where((df_w2['wind_direction']<292.5) & (df_w2['wind_direction']>=247.5), 'South', \n",
    "                                  'Southeast')))))))))\n",
    "\n",
    "df_w2['wind_direction cat2'] = np.where(df_w2['wind_direction'].isna(), 'Unknown',\n",
    "                                  np.where(df_w2['wind_speed']==0, 'No Wind',\n",
    "                                  np.where((df_w2['wind_direction']<45)  & (df_w2['wind_direction']>=0), 'East',\n",
    "                                  np.where((df_w2['wind_direction']<90)  & (df_w2['wind_direction']>=45), 'Northeast',\n",
    "                                  np.where((df_w2['wind_direction']<135) & (df_w2['wind_direction']>=90), 'North',\n",
    "                                  np.where((df_w2['wind_direction']<180) & (df_w2['wind_direction']>=135), 'Northwest',\n",
    "                                  np.where((df_w2['wind_direction']<225) & (df_w2['wind_direction']>=180), 'West',\n",
    "                                  np.where((df_w2['wind_direction']<270) & (df_w2['wind_direction']>=225), 'Southwest',\n",
    "                                  np.where((df_w2['wind_direction']<315) & (df_w2['wind_direction']>=270), 'South', \n",
    "                                  'Southeast')))))))))\n",
    "\n",
    "\n",
    "df_w2['precipitation'] = np.where(df_w2['precip_depth_1_hr'].isna(), 'Unknown', \n",
    "                                  np.where(df_w2['precip_depth_1_hr']<=0, 'N', 'Y'))\n",
    "\n",
    "df_w2['precipitation sign'] = np.where(df_w2['precip_depth_1_hr'].isna(), 'Unknown',\n",
    "                                   np.where(df_w2['precip_depth_1_hr']<0, 'Negative',\n",
    "                                   np.where(df_w2['precip_depth_1_hr']==0, 'Zero', 'Positive')))\n",
    "\n",
    "# df_w2['wind_speed_log'] = np.log(df_w2['wind_speed']+1)\n"
   ]
  },
  {
   "cell_type": "code",
   "execution_count": 7,
   "metadata": {},
   "outputs": [],
   "source": [
    "#####\n",
    "# weather shift\n",
    "shift_hour = 1\n",
    "######\n",
    "\n",
    "cols = ['air_temperature', 'cloud_coverage',\n",
    "       'dew_temperature', 'precip_depth_1_hr', 'sea_level_pressure',\n",
    "       'wind_direction', 'wind_speed', 'wind_direction cat',\n",
    "       'wind_direction cat2', 'precipitation', 'precipitation sign']\n",
    "\n",
    "for col in cols:\n",
    "    df_w2[col+'_lag'] = df_w2[col].shift(shift_hour)\n",
    "    df_w2[col+'_lag'] = df_w2[col].shift(shift_hour)\n"
   ]
  },
  {
   "cell_type": "code",
   "execution_count": 8,
   "metadata": {},
   "outputs": [],
   "source": [
    "df_w2.to_csv( data_path + '/weather_train_processed_lag.csv', index=False)\n",
    "del df_w2"
   ]
  },
  {
   "cell_type": "markdown",
   "metadata": {},
   "source": [
    "## Save as feather files for faster processing and saving memory"
   ]
  },
  {
   "cell_type": "code",
   "execution_count": 9,
   "metadata": {},
   "outputs": [],
   "source": [
    "train_df = pd.read_csv( data_path + '/train.csv')\n",
    "weather_train_df = pd.read_csv(data_path + '/weather_train_processed_lag.csv')\n",
    "building_meta_df = pd.read_csv(data_path + '/building_metadata.csv')\n",
    "\n",
    "train_df['timestamp'] = pd.to_datetime(train_df['timestamp'])\n",
    "weather_train_df['timestamp'] = pd.to_datetime(weather_train_df['timestamp'])\n",
    "\n",
    "train_df.to_feather( data_path + '/train.feather')\n",
    "weather_train_df.to_feather( data_path + '/weather_train_processed_lag.feather')\n",
    "building_meta_df.to_feather( data_path + '/building_metadata.feather')\n",
    "\n",
    "del train_df\n",
    "del weather_train_df\n",
    "del building_meta_df"
   ]
  },
  {
   "cell_type": "markdown",
   "metadata": {},
   "source": [
    "## Merge data"
   ]
  },
  {
   "cell_type": "code",
   "execution_count": 10,
   "metadata": {},
   "outputs": [],
   "source": [
    "train_df = pd.read_feather( data_path + '/train.feather')\n",
    "weather_train_df = pd.read_feather( data_path + '/weather_train_processed_lag.feather')\n",
    "building_meta_df = pd.read_feather( data_path + '/building_metadata.feather')"
   ]
  },
  {
   "cell_type": "code",
   "execution_count": 11,
   "metadata": {},
   "outputs": [],
   "source": [
    "train_df = train_df.merge(building_meta_df, left_on = \"building_id\", right_on = \"building_id\", how = \"left\")\n",
    "train_df = train_df.merge(weather_train_df, left_on = [\"site_id\", \"timestamp\"], right_on = [\"site_id\", \"timestamp\"], how = \"left\")\n",
    "del weather_train_df\n",
    "del building_meta_df"
   ]
  },
  {
   "cell_type": "code",
   "execution_count": 12,
   "metadata": {},
   "outputs": [
    {
     "data": {
      "text/plain": [
       "(20216100, 31)"
      ]
     },
     "execution_count": 12,
     "metadata": {},
     "output_type": "execute_result"
    }
   ],
   "source": [
    "train_df.shape"
   ]
  },
  {
   "cell_type": "markdown",
   "metadata": {},
   "source": [
    "## Add New Features"
   ]
  },
  {
   "cell_type": "code",
   "execution_count": 13,
   "metadata": {},
   "outputs": [
    {
     "name": "stdout",
     "output_type": "stream",
     "text": [
      "Wall time: 3min 58s\n"
     ]
    }
   ],
   "source": [
    "%%time\n",
    "le = preprocessing.LabelEncoder()\n",
    "train_df['primary_use'] = le.fit_transform(train_df['primary_use'])\n",
    "\n",
    "move = ['meter_reading', 'timestamp'] + [x for x in train_df.columns if x not in ['meter_reading', 'timestamp']]\n",
    "train_df = train_df[move]\n",
    "\n",
    "mask =(train_df['site_id']==0) & (train_df['timestamp'] < '2016-06-01')\n",
    "train_df = train_df[~mask]\n",
    "\n",
    "# this may take mins\n",
    "train_df['date_month'] = train_df['timestamp'].map(lambda x: x.month)\n",
    "train_df['date_day'] = train_df['timestamp'].map(lambda x: x.day)\n",
    "train_df['iso_week'] = train_df['timestamp'].map(lambda x: x.isocalendar()[1])\n",
    "train_df['iso_weekend'] = train_df['timestamp'].map(lambda x: x.isocalendar()[2])\n",
    "train_df['hour'] = train_df['timestamp'].map(lambda x: x.hour)\n",
    "train_df['holidays'] = train_df['timestamp'].map(lambda x: 1 if x in us_holidays else 0)"
   ]
  },
  {
   "cell_type": "code",
   "execution_count": 14,
   "metadata": {},
   "outputs": [
    {
     "name": "stdout",
     "output_type": "stream",
     "text": [
      "wind_direction cat\n",
      "wind_direction cat2\n",
      "wind_direction cat_lag\n",
      "wind_direction cat2_lag\n"
     ]
    }
   ],
   "source": [
    "use = ['meter_reading', 'building_id', 'meter', 'site_id',\n",
    "       'primary_use', 'square_feet', 'year_built', 'floor_count',\n",
    "       'air_temperature', 'cloud_coverage', 'dew_temperature',\n",
    "       'precip_depth_1_hr', 'sea_level_pressure', 'wind_direction',\n",
    "       'wind_speed', 'wind_direction cat', 'wind_direction cat2',\n",
    "        'air_temperature_lag',\n",
    "       'cloud_coverage_lag', 'dew_temperature_lag', 'precip_depth_1_hr_lag',\n",
    "       'sea_level_pressure_lag', 'wind_direction_lag', 'wind_speed_lag',\n",
    "       'wind_direction cat_lag', 'wind_direction cat2_lag',\n",
    "        'date_month', 'date_day',\n",
    "       'iso_week', 'iso_weekend', 'hour', 'holidays']\n",
    "\n",
    "train_df = train_df[use]\n",
    "\n",
    "train_df['wind_direction cat'][train_df['wind_direction cat'].isna()] = 'Unknown'\n",
    "train_df['wind_direction cat2'][train_df['wind_direction cat2'].isna()] = 'Unknown'\n",
    "train_df['wind_direction cat_lag'][train_df['wind_direction cat_lag'].isna()] = 'Unknown'\n",
    "train_df['wind_direction cat2_lag'][train_df['wind_direction cat2_lag'].isna()] = 'Unknown'\n",
    "\n",
    "cat_need_encode = ['wind_direction cat', 'wind_direction cat2',\n",
    "                  'wind_direction cat_lag', 'wind_direction cat2_lag', \n",
    "                  ]\n",
    "\n",
    "for var in cat_need_encode:\n",
    "    print(var)\n",
    "    le = preprocessing.LabelEncoder()\n",
    "    train_df[var] = le.fit_transform(train_df[var])"
   ]
  },
  {
   "cell_type": "markdown",
   "metadata": {},
   "source": [
    "## Reduce CSV file size\n",
    "Since AutoMLs can not take feather file, we prepared a set of CSV files for feeding AutoML platforms."
   ]
  },
  {
   "cell_type": "code",
   "execution_count": 15,
   "metadata": {},
   "outputs": [],
   "source": [
    "## Function to reduce the DF size\n",
    "def reduce_mem_usage(df, verbose=True):\n",
    "    numerics = ['int16', 'int32', 'int64', 'float16', 'float32', 'float64']\n",
    "    start_mem = df.memory_usage().sum() / 1024**2    \n",
    "    for col in df.columns:\n",
    "        col_type = df[col].dtypes\n",
    "        if col_type in numerics:\n",
    "            c_min = df[col].min()\n",
    "            c_max = df[col].max()\n",
    "            if str(col_type)[:3] == 'int':\n",
    "                if c_min > np.iinfo(np.int8).min and c_max < np.iinfo(np.int8).max:\n",
    "                    df[col] = df[col].astype(np.int8)\n",
    "                elif c_min > np.iinfo(np.int16).min and c_max < np.iinfo(np.int16).max:\n",
    "                    df[col] = df[col].astype(np.int16)\n",
    "                elif c_min > np.iinfo(np.int32).min and c_max < np.iinfo(np.int32).max:\n",
    "                    df[col] = df[col].astype(np.int32)\n",
    "                elif c_min > np.iinfo(np.int64).min and c_max < np.iinfo(np.int64).max:\n",
    "                    df[col] = df[col].astype(np.int64)  \n",
    "            else:\n",
    "                if c_min > np.finfo(np.float16).min and c_max < np.finfo(np.float16).max:\n",
    "                    df[col] = df[col].astype(np.float16)\n",
    "                elif c_min > np.finfo(np.float32).min and c_max < np.finfo(np.float32).max:\n",
    "                    df[col] = df[col].astype(np.float32)\n",
    "                else:\n",
    "                    df[col] = df[col].astype(np.float64)    \n",
    "    end_mem = df.memory_usage().sum() / 1024**2\n",
    "    if verbose: print('Mem. usage decreased to {:5.2f} Mb ({:.1f}% reduction)'.format(end_mem, 100 * (start_mem - end_mem) / start_mem))\n",
    "    return df\n"
   ]
  },
  {
   "cell_type": "code",
   "execution_count": 16,
   "metadata": {},
   "outputs": [
    {
     "name": "stdout",
     "output_type": "stream",
     "text": [
      "Mem. usage decreased to 1189.02 Mb (74.2% reduction)\n"
     ]
    }
   ],
   "source": [
    "train_df = reduce_mem_usage(train_df)"
   ]
  },
  {
   "cell_type": "markdown",
   "metadata": {},
   "source": [
    "## Rename the columns to prevent errors on the platforms"
   ]
  },
  {
   "cell_type": "code",
   "execution_count": 17,
   "metadata": {},
   "outputs": [],
   "source": [
    "use = ['meter_reading', 'building_id', 'meter', 'site_id',\n",
    "       'primary_use', 'square_feet', 'year_built', 'floor_count',\n",
    "       'air_temperature', 'cloud_coverage', 'dew_temperature',\n",
    "       'precip_depth_1_hr', 'sea_level_pressure', 'wind_direction',\n",
    "       'wind_speed', 'wind_direction_cat', 'wind_direction_cat2',\n",
    "        'air_temperature_lag',\n",
    "       'cloud_coverage_lag', 'dew_temperature_lag', 'precip_depth_1_hr_lag',\n",
    "       'sea_level_pressure_lag', 'wind_direction_lag', 'wind_speed_lag',\n",
    "       'wind_direction_cat_lag', 'wind_direction_cat2_lag',\n",
    "        'date_month', 'date_day',\n",
    "       'iso_week', 'iso_weekend', 'hour', 'holidays']\n",
    "\n",
    "train_df.columns = use"
   ]
  },
  {
   "cell_type": "code",
   "execution_count": 18,
   "metadata": {},
   "outputs": [
    {
     "name": "stdout",
     "output_type": "stream",
     "text": [
      "Wall time: 6min 46s\n"
     ]
    }
   ],
   "source": [
    "%%time\n",
    "train_df = train_df.reset_index(drop=True)\n",
    "train_df.to_csv( data_path + 'processed_automl_google.csv', index=False)"
   ]
  }
 ],
 "metadata": {
  "kernelspec": {
   "display_name": "Python 3",
   "language": "python",
   "name": "python3"
  },
  "language_info": {
   "codemirror_mode": {
    "name": "ipython",
    "version": 3
   },
   "file_extension": ".py",
   "mimetype": "text/x-python",
   "name": "python",
   "nbconvert_exporter": "python",
   "pygments_lexer": "ipython3",
   "version": "3.6.8"
  }
 },
 "nbformat": 4,
 "nbformat_minor": 2
}
