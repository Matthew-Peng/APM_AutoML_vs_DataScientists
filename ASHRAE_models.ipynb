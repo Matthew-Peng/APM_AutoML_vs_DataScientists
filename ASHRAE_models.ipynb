{
 "cells": [
  {
   "cell_type": "code",
   "execution_count": 1,
   "metadata": {},
   "outputs": [],
   "source": [
    "import pandas as pd\n",
    "import numpy as np\n",
    "import matplotlib.pyplot as plt\n",
    "%matplotlib inline  \n",
    "import os\n",
    "import random\n",
    "\n",
    "from sklearn import preprocessing\n",
    "import lightgbm as lgb\n",
    "from sklearn.metrics import mean_squared_log_error, mean_squared_error\n",
    "from sklearn.model_selection import train_test_split\n",
    "\n",
    "from datetime import date\n",
    "import holidays\n",
    "us_holidays = holidays.UnitedStates()\n",
    "\n",
    "pd.set_option('display.max_rows', 500)\n",
    "pd.set_option('display.max_columns', 500)\n",
    "\n",
    "\n",
    "import warnings\n",
    "warnings.filterwarnings('ignore')"
   ]
  },
  {
   "cell_type": "markdown",
   "metadata": {},
   "source": [
    "## Config"
   ]
  },
  {
   "cell_type": "code",
   "execution_count": 2,
   "metadata": {},
   "outputs": [],
   "source": [
    "## change the data_path to where you store data\n",
    "data_path = 'Data'\n",
    "\n",
    "## change the model_path to where you want store models\n",
    "model_path = 'model'"
   ]
  },
  {
   "cell_type": "markdown",
   "metadata": {},
   "source": [
    "## Read in data"
   ]
  },
  {
   "cell_type": "code",
   "execution_count": 3,
   "metadata": {},
   "outputs": [],
   "source": [
    "df = pd.read_csv(data_path + 'processed_automl_google.csv')"
   ]
  },
  {
   "cell_type": "markdown",
   "metadata": {},
   "source": [
    "#### using_col below contains the columns selected by stepwise selecting process"
   ]
  },
  {
   "cell_type": "code",
   "execution_count": 4,
   "metadata": {},
   "outputs": [],
   "source": [
    "using_col = [ 'meter_reading', 'building_id', 'meter', \n",
    "       'air_temperature', \n",
    "       'precip_depth_1_hr', \n",
    "       'wind_speed', \n",
    "        'precip_depth_1_hr_lag',\n",
    "       'date_month', 'date_day', 'iso_week', 'iso_weekend', 'hour',\n",
    "       'holidays']\n",
    "df = df[using_col]"
   ]
  },
  {
   "cell_type": "markdown",
   "metadata": {},
   "source": [
    "## Split training and testing set"
   ]
  },
  {
   "cell_type": "code",
   "execution_count": 5,
   "metadata": {},
   "outputs": [],
   "source": [
    "train_df = df.sample(frac=0.8,random_state=11)\n",
    "test_df = df.drop(train_df.index)\n",
    "\n",
    "X_train = train_df.iloc[:,1:]\n",
    "y_train = train_df.iloc[:,0]\n",
    "\n",
    "X_test = test_df.iloc[:,1:]\n",
    "y_test = test_df.iloc[:,0]\n",
    "\n",
    "del df\n",
    "del train_df\n",
    "del test_df\n",
    "\n",
    "cat_variables = ['meter', 'site_id', 'primary_use', \n",
    "                'iso_weekend',  'holidays',\n",
    "                'wind_direction cat', 'precipitation', 'precipitation sign']\n",
    "\n",
    "cat_variables_loc = list()\n",
    "for col in cat_variables:\n",
    "    if col in X_train.columns:\n",
    "        cat_variables_loc.append(X_train.columns.get_loc(col))"
   ]
  },
  {
   "cell_type": "markdown",
   "metadata": {},
   "source": [
    "## Modeling"
   ]
  },
  {
   "cell_type": "code",
   "execution_count": 17,
   "metadata": {},
   "outputs": [
    {
     "name": "stdout",
     "output_type": "stream",
     "text": [
      "train rmsle:  0.6661559455495784\n",
      "test rmsle:  0.7729813016050944\n",
      "train rmse:  9907.157937267504\n",
      "test rmse:  25846.30966838011\n",
      "Wall time: 45min 20s\n"
     ]
    }
   ],
   "source": [
    "%%time\n",
    "\n",
    "building_list = X_test['building_id'].drop_duplicates()\n",
    "\n",
    "y_train_list = pd.Series()\n",
    "y_test_list = pd.Series()\n",
    "\n",
    "prediction_train = pd.Series()\n",
    "prediction_test = pd.Series()\n",
    "\n",
    "for sample in building_list: \n",
    "    X_train_b = X_train[X_train['building_id']==sample]\n",
    "    y_train_b = y_train[X_train_b.index]\n",
    "    X_test_b = X_test[X_test['building_id']==sample]\n",
    "    y_test_b = y_test[X_test_b.index]\n",
    "        \n",
    "    bst = lgb.LGBMRegressor(n_estimators = 1000, max_depth = 10)\n",
    "    bst.fit(X_train_b.values, y_train_b.values, categorical_feature=cat_variables_loc)\n",
    "    bst.booster_.save_model(model_path + '/model{}.txt'.format(sample))\n",
    "    \n",
    "    prediction_on_X_train = bst.predict(X_train_b)\n",
    "    prediction_on_X_train = pd.Series(prediction_on_X_train)\n",
    "    prediction_on_X_train[prediction_on_X_train<0] = 0\n",
    "\n",
    "    prediction_on_X_test = bst.predict(X_test_b)\n",
    "    prediction_on_X_test = pd.Series(prediction_on_X_test)\n",
    "    prediction_on_X_test[prediction_on_X_test<0] = 0\n",
    "    \n",
    "    y_train_list = pd.concat([y_train_list, y_train_b])\n",
    "    y_test_list = pd.concat([y_test_list, y_test_b])\n",
    "\n",
    "    prediction_train = pd.concat([prediction_train, prediction_on_X_train])\n",
    "    prediction_test = pd.concat([prediction_test, prediction_on_X_test])\n",
    "\n",
    "print('train rmsle: ', np.sqrt(mean_squared_log_error( y_train_list, prediction_train)))\n",
    "print('test rmsle: ', np.sqrt(mean_squared_log_error( y_test_list, prediction_test)))\n",
    "\n",
    "print('train rmse: ', np.sqrt(mean_squared_error( y_train_list, prediction_train)))\n",
    "print('test rmse: ', np.sqrt(mean_squared_error( y_test_list, prediction_test)))\n",
    "\n",
    "# best results for now\n",
    "# train rmsle:  0.6661559455495784\n",
    "# test rmsle:  0.7729813016050944\n",
    "# train rmse:  9907.157937267504\n",
    "# test rmse:  25846.30966838011"
   ]
  }
 ],
 "metadata": {
  "kernelspec": {
   "display_name": "Python 3",
   "language": "python",
   "name": "python3"
  },
  "language_info": {
   "codemirror_mode": {
    "name": "ipython",
    "version": 3
   },
   "file_extension": ".py",
   "mimetype": "text/x-python",
   "name": "python",
   "nbconvert_exporter": "python",
   "pygments_lexer": "ipython3",
   "version": "3.6.8"
  }
 },
 "nbformat": 4,
 "nbformat_minor": 2
}
